{
 "cells": [
  {
   "cell_type": "markdown",
   "id": "b4e70f3e-b1c8-4753-b3f9-e125a046a1f7",
   "metadata": {},
   "source": [
    "### Import Libraries"
   ]
  },
  {
   "cell_type": "code",
   "execution_count": 65,
   "id": "d0893da9-b058-453d-8d53-929b3b5ff951",
   "metadata": {},
   "outputs": [],
   "source": [
    "import numpy as np\n",
    "import pandas as pd\n",
    "from sklearn.model_selection import train_test_split, GridSearchCV, RandomizedSearchCV\n",
    "from sklearn.preprocessing import StandardScaler\n",
    "from sklearn.metrics import accuracy_score, precision_score, recall_score, f1_score, classification_report\n",
    "from sklearn.ensemble import RandomForestClassifier\n",
    "from sklearn.svm import SVC\n",
    "from sklearn.linear_model import LogisticRegression\n",
    "from sklearn.datasets import load_breast_cancer\n"
   ]
  },
  {
   "cell_type": "markdown",
   "id": "b6914c8c-6517-416b-9f71-f8f480a884fa",
   "metadata": {},
   "source": [
    "### Load Dataset "
   ]
  },
  {
   "cell_type": "code",
   "execution_count": 67,
   "id": "36128401-2f2d-4193-b2cf-d5fcb559178b",
   "metadata": {},
   "outputs": [],
   "source": [
    "# Example dataset - replace with your actual dataset\n",
    "data = pd.read_csv('Titanic-Dataset.csv')\n",
    "# Step 2: Drop unnecessary columns and handle missing values\n",
    "data = data.drop(columns=['Name', 'Ticket', 'Cabin', 'PassengerId'])  # drop unneeded text columns\n",
    "data = data.dropna()  # for simplicity (or use imputation)\n",
    "\n",
    "# Step 3: Encode categorical variables (like 'Sex' and 'Embarked')\n",
    "data = pd.get_dummies(data, columns=['Sex', 'Embarked'], drop_first=True)\n",
    "\n",
    "# Step 4: Separate features and target\n",
    "X = data.drop(columns=['Survived'])\n",
    "y = data['Survived']\n",
    "\n",
    "# Step 5: Train-test split\n",
    "X_train, X_test, y_train, y_test = train_test_split(X, y, test_size=0.2, random_state=42)\n",
    "\n",
    "# Step 6: Feature scaling\n",
    "scaler = StandardScaler()\n",
    "X_train = scaler.fit_transform(X_train)\n",
    "X_test = scaler.transform(X_test)\n"
   ]
  },
  {
   "cell_type": "markdown",
   "id": "54f9f894-be23-4846-ba0c-a0fc41373c78",
   "metadata": {},
   "source": [
    "### Train Multiple Models"
   ]
  },
  {
   "cell_type": "code",
   "execution_count": 69,
   "id": "0d38cf2e-d01e-460a-927a-f05cd4ef4a46",
   "metadata": {},
   "outputs": [
    {
     "name": "stdout",
     "output_type": "stream",
     "text": [
      "Initial Model Evaluation:\n",
      "\n",
      "                     Accuracy  Precision    Recall  F1 Score\n",
      "Logistic Regression  0.797203   0.854167  0.650794  0.738739\n",
      "Random Forest        0.790210   0.789474  0.714286  0.750000\n",
      "SVM                  0.818182   0.862745  0.698413  0.771930\n"
     ]
    }
   ],
   "source": [
    "models = {\n",
    "    'Logistic Regression': LogisticRegression(),\n",
    "    'Random Forest': RandomForestClassifier(),\n",
    "    'SVM': SVC()\n",
    "}\n",
    "\n",
    "results = {}\n",
    "\n",
    "for name, model in models.items():\n",
    "    model.fit(X_train, y_train)\n",
    "    y_pred = model.predict(X_test)\n",
    "    \n",
    "    results[name] = {\n",
    "        'Accuracy': accuracy_score(y_test, y_pred),\n",
    "        'Precision': precision_score(y_test, y_pred),\n",
    "        'Recall': recall_score(y_test, y_pred),\n",
    "        'F1 Score': f1_score(y_test, y_pred)\n",
    "    }\n",
    "\n",
    "# Display results\n",
    "results_df = pd.DataFrame(results).T\n",
    "print(\"Initial Model Evaluation:\\n\")\n",
    "print(results_df)\n"
   ]
  },
  {
   "cell_type": "markdown",
   "id": "e137be63-db16-4e87-8cfc-bde8d3a83c2d",
   "metadata": {},
   "source": [
    "### HyperParameter Tunning"
   ]
  },
  {
   "cell_type": "markdown",
   "id": "0d92ace2-e83b-4423-870d-e1b3c24d9b9e",
   "metadata": {},
   "source": [
    "### GridSearchCV"
   ]
  },
  {
   "cell_type": "code",
   "execution_count": 71,
   "id": "58a6d4ca-e1f4-4256-95d9-2d72c93efd8b",
   "metadata": {},
   "outputs": [
    {
     "name": "stderr",
     "output_type": "stream",
     "text": [
      "C:\\Users\\mehul\\AppData\\Roaming\\Python\\Python312\\site-packages\\joblib\\externals\\loky\\process_executor.py:752: UserWarning: A worker stopped while some jobs were given to the executor. This can be caused by a too short worker timeout or by a memory leak.\n",
      "  warnings.warn(\n"
     ]
    },
    {
     "name": "stdout",
     "output_type": "stream",
     "text": [
      "Best Random Forest Params: {'max_depth': 20, 'min_samples_split': 10, 'n_estimators': 100}\n"
     ]
    }
   ],
   "source": [
    "param_grid_rf = {\n",
    "    'n_estimators': [50, 100, 150],\n",
    "    'max_depth': [None, 10, 20],\n",
    "    'min_samples_split': [2, 5, 10]\n",
    "}\n",
    "\n",
    "grid_search_rf = GridSearchCV(RandomForestClassifier(), param_grid_rf, cv=5, scoring='f1', n_jobs=-1)\n",
    "grid_search_rf.fit(X_train, y_train)\n",
    "\n",
    "print(\"Best Random Forest Params:\", grid_search_rf.best_params_)\n"
   ]
  },
  {
   "cell_type": "markdown",
   "id": "e88eb572-9ff8-478f-b269-1687e1a67008",
   "metadata": {},
   "source": [
    "### RandomizedSearchCV"
   ]
  },
  {
   "cell_type": "code",
   "execution_count": 72,
   "id": "a0100945-2557-468d-a91a-cc418cd484e2",
   "metadata": {},
   "outputs": [
    {
     "name": "stdout",
     "output_type": "stream",
     "text": [
      "Best SVM Params: {'kernel': 'rbf', 'gamma': 'scale', 'C': 100}\n"
     ]
    }
   ],
   "source": [
    "param_dist_svm = {\n",
    "    'C': [0.1, 1, 10, 100],\n",
    "    'kernel': ['linear', 'rbf'],\n",
    "    'gamma': ['scale', 'auto']\n",
    "}\n",
    "\n",
    "random_search_svm = RandomizedSearchCV(SVC(), param_distributions=param_dist_svm, n_iter=10, cv=5, scoring='f1', random_state=42, n_jobs=-1)\n",
    "random_search_svm.fit(X_train, y_train)\n",
    "\n",
    "print(\"Best SVM Params:\", random_search_svm.best_params_)\n"
   ]
  },
  {
   "cell_type": "markdown",
   "id": "12911204-82a0-49c0-907b-bb926d9f03c5",
   "metadata": {},
   "source": [
    "### Retrain Tuned Models and Re-Evaluate"
   ]
  },
  {
   "cell_type": "code",
   "execution_count": 75,
   "id": "018b51c5-b0f0-4734-9d7e-9c9e2e1554d9",
   "metadata": {},
   "outputs": [
    {
     "name": "stdout",
     "output_type": "stream",
     "text": [
      "\n",
      "Final Comparison After Hyperparameter Tuning:\n",
      "\n",
      "                     Accuracy  Precision    Recall  F1 Score\n",
      "Logistic Regression  0.797203   0.854167  0.650794  0.738739\n",
      "Random Forest        0.790210   0.789474  0.714286  0.750000\n",
      "SVM                  0.818182   0.862745  0.698413  0.771930\n",
      "Tuned Random Forest  0.783217   0.796296  0.682540  0.735043\n",
      "Tuned SVM            0.797203   0.826923  0.682540  0.747826\n"
     ]
    }
   ],
   "source": [
    "best_rf = grid_search_rf.best_estimator_\n",
    "best_svm = random_search_svm.best_estimator_\n",
    "\n",
    "tuned_models = {\n",
    "    'Tuned Random Forest': best_rf,\n",
    "    'Tuned SVM': best_svm\n",
    "}\n",
    "\n",
    "for name, model in tuned_models.items():\n",
    "    model.fit(X_train, y_train)\n",
    "    y_pred = model.predict(X_test)\n",
    "    \n",
    "    results[name] = {\n",
    "        'Accuracy': accuracy_score(y_test, y_pred),\n",
    "        'Precision': precision_score(y_test, y_pred),\n",
    "        'Recall': recall_score(y_test, y_pred),\n",
    "        'F1 Score': f1_score(y_test, y_pred)\n",
    "    }\n",
    "\n",
    "# Final comparison\n",
    "final_results_df = pd.DataFrame(results).T\n",
    "print(\"\\nFinal Comparison After Hyperparameter Tuning:\\n\")\n",
    "print(final_results_df)\n"
   ]
  },
  {
   "cell_type": "markdown",
   "id": "4e67a31c-5c4c-4e1d-9c5f-35175665c201",
   "metadata": {},
   "source": [
    "### Plotting Results "
   ]
  },
  {
   "cell_type": "code",
   "execution_count": 77,
   "id": "cf70803c-65fd-4bae-9cc4-4317a5d5cc74",
   "metadata": {},
   "outputs": [
    {
     "data": {
      "image/png": "[encoded data removed]",
      "text/plain": [
       "<Figure size 1000x600 with 1 Axes>"
      ]
     },
     "metadata": {},
     "output_type": "display_data"
    }
   ],
   "source": [
    "\n",
    "import matplotlib.pyplot as plt\n",
    "\n",
    "final_results_df.plot(kind='bar', figsize=(10,6))\n",
    "plt.title(\"Model Performance Comparison\")\n",
    "plt.ylabel(\"Score\")\n",
    "plt.xticks(rotation=45)\n",
    "plt.grid(True)\n",
    "plt.tight_layout()\n",
    "plt.show()\n"
   ]
  },
  {
   "cell_type": "markdown",
   "id": "162860da-1770-448b-80af-85cba3264cfc",
   "metadata": {},
   "source": [
    "### Conclusion -  Conclusion: Best Model - Untuned SVM"
   ]
  },
  {
   "cell_type": "markdown",
   "id": "c1bac157-b10e-4cea-bceb-5533e41c01e1",
   "metadata": {},
   "source": [
    "Among all models, untuned SVM delivered the best performance, achieving the highest F1-score of 0.7719 and highest accuracy of 0.8182."
   ]
  },
  {
   "cell_type": "code",
   "execution_count": null,
   "id": "0ec3b189-8070-4794-9b58-467678027085",
   "metadata": {},
   "outputs": [],
   "source": []
  },
  {
   "cell_type": "code",
   "execution_count": null,
   "id": "7bd749b9-5289-4db2-818f-844d056f5807",
   "metadata": {},
   "outputs": [],
   "source": []
  }
 ],
 "metadata": {
  "kernelspec": {
   "display_name": "Python 3 (ipykernel)",
   "language": "python",
   "name": "python3"
  },
  "language_info": {
   "codemirror_mode": {
    "name": "ipython",
    "version": 3
   },
   "file_extension": ".py",
   "mimetype": "text/x-python",
   "name": "python",
   "nbconvert_exporter": "python",
   "pygments_lexer": "ipython3",
   "version": "3.12.7"
  }
 },
 "nbformat": 4,
 "nbformat_minor": 5
}
